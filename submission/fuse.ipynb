{
 "cells": [
  {
   "cell_type": "code",
   "execution_count": 1,
   "metadata": {},
   "outputs": [],
   "source": [
    "import jsonlines\n",
    "from tqdm import tqdm\n",
    "import os"
   ]
  },
  {
   "cell_type": "code",
   "execution_count": 2,
   "metadata": {},
   "outputs": [],
   "source": [
    "task_list = ['CHIP-CDEE', 'CMeEE-V2', 'CHIP-CTC', 'IMCS-V2-DAC', 'CHIP-STS', 'IMCS-V2-MRG', 'MedDG', 'CHIP-CDN', 'IMCS-V2-NER', 'CHIP-MDCFNPC', 'KUAKE-QTR', 'KUAKE-QIC', 'CMeIE', 'IMCS-V2-SR', 'KUAKE-QQR', 'KUAKE-IR']\n",
    "main_path = \"./\""
   ]
  },
  {
   "cell_type": "code",
   "execution_count": 3,
   "metadata": {},
   "outputs": [],
   "source": [
    "def read_data(data_path):\n",
    "\n",
    "    data = []\n",
    "\n",
    "    with jsonlines.open(data_path, \"r\") as f:\n",
    "        for meta_data in f:\n",
    "            data.append(meta_data)\n",
    "\n",
    "    return data"
   ]
  },
  {
   "cell_type": "code",
   "execution_count": 4,
   "metadata": {},
   "outputs": [],
   "source": [
    "def save_data(data_path, data):\n",
    "    # write all_data list to a new jsonl\n",
    "    with jsonlines.open(data_path, \"w\") as w:\n",
    "        for meta_data in data:\n",
    "            w.write(meta_data)"
   ]
  },
  {
   "cell_type": "code",
   "execution_count": 5,
   "metadata": {},
   "outputs": [],
   "source": [
    "def extract_data(data):\n",
    "# {\"sample_id\": data_jsonline}\n",
    "    data_dict = {}\n",
    "\n",
    "    for meta_data in tqdm(data):\n",
    "\n",
    "        if meta_data['sample_id'] in data_dict.keys():\n",
    "            #print(data_dict[meta_data['sample_id']]['task_dataset'])\n",
    "            #print(meta_data['task_dataset'])\n",
    "            #print('\\n')\n",
    "            if data_dict[meta_data['sample_id']]['task_dataset'] == meta_data['task_dataset']:\n",
    "                print(meta_data['task_dataset'])\n",
    "                print(meta_data['sample_id'])\n",
    "                break\n",
    "\n",
    "        data_dict[meta_data['sample_id']] = meta_data\n",
    "\n",
    "    return data_dict"
   ]
  },
  {
   "cell_type": "code",
   "execution_count": 6,
   "metadata": {},
   "outputs": [],
   "source": [
    "def extract_data_new(data):\n",
    "# [(\"sample_id\", \"task_dataset\"), ...]\n",
    "    data_list = []\n",
    "\n",
    "    for meta_data in tqdm(data):\n",
    "\n",
    "        data_list.append((meta_data['sample_id'], meta_data['task_dataset']))\n",
    "\n",
    "    return data_list"
   ]
  },
  {
   "cell_type": "code",
   "execution_count": 7,
   "metadata": {},
   "outputs": [
    {
     "name": "stderr",
     "output_type": "stream",
     "text": [
      "100%|██████████| 10072/10072 [00:00<00:00, 1457428.75it/s]\n"
     ]
    }
   ],
   "source": [
    "raw_test = extract_data_new(read_data(\"testB.json\"))\n",
    "#raw_index = list(raw_test.keys())"
   ]
  },
  {
   "cell_type": "code",
   "execution_count": 8,
   "metadata": {},
   "outputs": [
    {
     "name": "stderr",
     "output_type": "stream",
     "text": [
      "100%|██████████| 600/600 [00:00<00:00, 1137181.38it/s]\n",
      "100%|██████████| 600/600 [00:00<00:00, 1173779.10it/s]\n",
      "100%|██████████| 890/890 [00:00<00:00, 1361389.70it/s]\n",
      "100%|██████████| 800/800 [00:00<00:00, 1259550.75it/s]\n",
      "100%|██████████| 600/600 [00:00<00:00, 1224614.31it/s]\n",
      "100%|██████████| 600/600 [00:00<00:00, 1243370.75it/s]\n",
      "100%|██████████| 600/600 [00:00<00:00, 1263979.11it/s]\n",
      "100%|██████████| 600/600 [00:00<00:00, 1299216.52it/s]\n",
      "100%|██████████| 600/600 [00:00<00:00, 1316892.94it/s]\n",
      "100%|██████████| 600/600 [00:00<00:00, 1215740.29it/s]\n",
      "100%|██████████| 600/600 [00:00<00:00, 1217504.79it/s]\n",
      "100%|██████████| 582/582 [00:00<00:00, 1313823.97it/s]\n",
      "100%|██████████| 600/600 [00:00<00:00, 1280052.09it/s]\n",
      "100%|██████████| 600/600 [00:00<00:00, 934143.43it/s]\n",
      "100%|██████████| 600/600 [00:00<00:00, 1525201.45it/s]\n",
      "100%|██████████| 600/600 [00:00<00:00, 1451316.26it/s]\n"
     ]
    }
   ],
   "source": [
    "res_dict = {}\n",
    "# ensemble all test results\n",
    "for task in task_list:\n",
    "\n",
    "    task_path = os.path.join(main_path, task)\n",
    "    task_path = os.path.join(task_path, \"test_predictions.json\")\n",
    "    task_dict = extract_data(read_data(task_path))\n",
    "\n",
    "    res_dict[task] = task_dict"
   ]
  },
  {
   "cell_type": "code",
   "execution_count": 9,
   "metadata": {},
   "outputs": [
    {
     "name": "stdout",
     "output_type": "stream",
     "text": [
      "10072\n"
     ]
    }
   ],
   "source": [
    "# whether has the same test samples\n",
    "#assert len(res_dict) == len(raw_test)\n",
    "print(len(raw_test))"
   ]
  },
  {
   "cell_type": "code",
   "execution_count": 10,
   "metadata": {},
   "outputs": [],
   "source": [
    "results = []\n",
    "# search the test sample from all test results\n",
    "for sample_id, task_dataset in raw_test:\n",
    "    results.append(res_dict[task_dataset][sample_id])\n",
    "\n",
    "save_data(\"test_predictions.json\", results)"
   ]
  },
  {
   "cell_type": "code",
   "execution_count": null,
   "metadata": {},
   "outputs": [],
   "source": []
  }
 ],
 "metadata": {
  "kernelspec": {
   "display_name": "llm",
   "language": "python",
   "name": "python3"
  },
  "language_info": {
   "codemirror_mode": {
    "name": "ipython",
    "version": 3
   },
   "file_extension": ".py",
   "mimetype": "text/x-python",
   "name": "python",
   "nbconvert_exporter": "python",
   "pygments_lexer": "ipython3",
   "version": "3.9.5"
  },
  "orig_nbformat": 4
 },
 "nbformat": 4,
 "nbformat_minor": 2
}
