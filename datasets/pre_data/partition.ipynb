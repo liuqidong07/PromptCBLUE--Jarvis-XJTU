{
 "cells": [
  {
   "cell_type": "code",
   "execution_count": 1,
   "metadata": {},
   "outputs": [],
   "source": [
    "import json\n",
    "import jsonlines\n",
    "from tqdm import tqdm\n",
    "import os"
   ]
  },
  {
   "cell_type": "code",
   "execution_count": 2,
   "metadata": {},
   "outputs": [],
   "source": [
    "def read_data(data_path):\n",
    "\n",
    "    data = []\n",
    "\n",
    "    with jsonlines.open(data_path, \"r\") as f:\n",
    "        for meta_data in f:\n",
    "            data.append(meta_data)\n",
    "\n",
    "    return data"
   ]
  },
  {
   "cell_type": "code",
   "execution_count": 3,
   "metadata": {},
   "outputs": [],
   "source": [
    "def save_data(data_path, data):\n",
    "    # write all_data list to a new jsonl\n",
    "    with jsonlines.open(data_path, \"w\") as w:\n",
    "        for meta_data in data:\n",
    "            w.write(meta_data)"
   ]
  },
  {
   "cell_type": "code",
   "execution_count": 4,
   "metadata": {},
   "outputs": [],
   "source": [
    "def extract_data(data):\n",
    "\n",
    "    data_dict = {}\n",
    "\n",
    "    for meta_data in tqdm(data):\n",
    "        if meta_data['task_dataset'] not in data_dict.keys():\n",
    "            data_dict[meta_data['task_dataset']] = []\n",
    "        data_dict[meta_data['task_dataset']].append(meta_data)\n",
    "\n",
    "    return data_dict"
   ]
  },
  {
   "cell_type": "code",
   "execution_count": 5,
   "metadata": {},
   "outputs": [
    {
     "name": "stderr",
     "output_type": "stream",
     "text": [
      "100%|██████████| 10072/10072 [00:00<00:00, 1452767.63it/s]\n"
     ]
    }
   ],
   "source": [
    "train_data = extract_data(read_data(\"train.json\"))\n",
    "dev_data = extract_data(read_data(\"dev.json\"))\n",
    "test_data = extract_data(read_data(\"test.json\"))"
   ]
  },
  {
   "cell_type": "code",
   "execution_count": 6,
   "metadata": {},
   "outputs": [],
   "source": [
    "count = 0\n",
    "task_list = ['CHIP-CDEE', 'CMeEE-V2', 'CHIP-CTC', 'IMCS-V2-DAC', 'CHIP-STS', 'IMCS-V2-MRG', 'MedDG', 'CHIP-CDN', 'IMCS-V2-NER', 'CHIP-MDCFNPC', 'KUAKE-QTR', 'KUAKE-QIC', 'CMeIE', 'IMCS-V2-SR', 'KUAKE-QQR', 'KUAKE-IR']\n",
    "for task in task_list:\n",
    "    count += len(test_data[task])"
   ]
  },
  {
   "cell_type": "code",
   "execution_count": 7,
   "metadata": {},
   "outputs": [
    {
     "data": {
      "text/plain": [
       "10072"
      ]
     },
     "execution_count": 7,
     "metadata": {},
     "output_type": "execute_result"
    }
   ],
   "source": [
    "count"
   ]
  },
  {
   "cell_type": "code",
   "execution_count": 8,
   "metadata": {},
   "outputs": [],
   "source": [
    "for task in test_data.keys():\n",
    "    dir_path = os.path.join(\"partitionB\", task)\n",
    "    if not os.path.exists(dir_path):\n",
    "        os.makedirs(dir_path)\n",
    "    \n",
    "    save_data(os.path.join(dir_path, \"train.json\"), train_data[task])\n",
    "    save_data(os.path.join(dir_path, \"dev.json\"), dev_data[task])\n",
    "    save_data(os.path.join(dir_path, \"test.json\"), test_data[task])"
   ]
  },
  {
   "cell_type": "code",
   "execution_count": 9,
   "metadata": {},
   "outputs": [
    {
     "data": {
      "text/plain": [
       "dict_keys(['CHIP-CTC', 'CHIP-CDEE', 'IMCS-V2-DAC', 'MedDG', 'KUAKE-QIC', 'IMCS-V2-SR', 'CMeEE-V2', 'CMeIE', 'IMCS-V2-NER', 'CHIP-CDN', 'IMCS-V2-MRG', 'KUAKE-QQR', 'CHIP-STS', 'KUAKE-QTR', 'KUAKE-IR', 'CHIP-MDCFNPC'])"
      ]
     },
     "execution_count": 9,
     "metadata": {},
     "output_type": "execute_result"
    }
   ],
   "source": [
    "test_data.keys()"
   ]
  }
 ],
 "metadata": {
  "kernelspec": {
   "display_name": "llm",
   "language": "python",
   "name": "python3"
  },
  "language_info": {
   "codemirror_mode": {
    "name": "ipython",
    "version": 3
   },
   "file_extension": ".py",
   "mimetype": "text/x-python",
   "name": "python",
   "nbconvert_exporter": "python",
   "pygments_lexer": "ipython3",
   "version": "3.9.5"
  },
  "orig_nbformat": 4
 },
 "nbformat": 4,
 "nbformat_minor": 2
}
