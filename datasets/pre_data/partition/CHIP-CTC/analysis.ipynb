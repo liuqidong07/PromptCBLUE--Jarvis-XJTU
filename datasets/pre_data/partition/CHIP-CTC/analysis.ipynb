{
 "cells": [
  {
   "cell_type": "code",
   "execution_count": 1,
   "metadata": {},
   "outputs": [],
   "source": [
    "import os\n",
    "import random\n",
    "import copy\n",
    "import re\n",
    "import json\n",
    "import jsonlines\n",
    "import numpy as np\n",
    "import pandas as pd\n",
    "from tqdm import tqdm\n",
    "import numpy as np\n",
    "from collections import Counter"
   ]
  },
  {
   "cell_type": "code",
   "execution_count": 2,
   "metadata": {},
   "outputs": [],
   "source": [
    "key_columns = [\"input\", \"target\", \"answer_choices\", \"task_type\", \"task_dataset\", \"sample_id\"]\n",
    "templates = [\n",
    "    \"判断临床试验筛选标准的类型：\\\\n[INPUT_TEXT]\\\\n选项：[LIST_LABELS]\\\\n答：\",\n",
    "    \"确定试验筛选标准的类型：\\\\n[INPUT_TEXT]\\\\n类型选项：[LIST_LABELS]\\\\n答：\",\n",
    "    \"[INPUT_TEXT]\\\\n这句话是什么临床试验筛选标准类型？\\\\n类型选项：[LIST_LABELS]\\\\n答：\",\n",
    "    \"[INPUT_TEXT]\\\\n是什么临床试验筛选标准类型？\\\\n选项：[LIST_LABELS]\\\\n答：\",\n",
    "    \"请问是什么类型？\\\\n[INPUT_TEXT]\\\\n临床试验筛选标准选项：[LIST_LABELS]\\\\n答：\"\n",
    "  ]"
   ]
  },
  {
   "cell_type": "code",
   "execution_count": 3,
   "metadata": {},
   "outputs": [],
   "source": [
    "def read_data(data_path):\n",
    "\n",
    "    data = []\n",
    "\n",
    "    with jsonlines.open(data_path, \"r\") as f:\n",
    "        for meta_data in f:\n",
    "            data.append(meta_data)\n",
    "\n",
    "    return data"
   ]
  },
  {
   "cell_type": "code",
   "execution_count": 4,
   "metadata": {},
   "outputs": [],
   "source": [
    "def save_data(data_path, data):\n",
    "    # write all_data list to a new jsonl\n",
    "    with jsonlines.open(data_path, \"w\") as w:\n",
    "        for meta_data in data:\n",
    "            w.write(meta_data)"
   ]
  },
  {
   "cell_type": "code",
   "execution_count": 5,
   "metadata": {},
   "outputs": [],
   "source": [
    "def get_choice_num(data):\n",
    "\n",
    "    count = 0\n",
    "    choices = []\n",
    "\n",
    "    for meta_data in data:\n",
    "        count += len(meta_data[\"answer_choices\"])\n",
    "        choices += meta_data[\"answer_choices\"]\n",
    "    \n",
    "    return count / len(data), len(np.unique(np.array(choices))), np.array(choices)"
   ]
  },
  {
   "cell_type": "code",
   "execution_count": 6,
   "metadata": {},
   "outputs": [],
   "source": [
    "_, _, train_choice = get_choice_num(read_data(\"train.json\"))\n",
    "_, _, dev_choice = get_choice_num(read_data(\"dev.json\"))\n",
    "_, _, test_choice = get_choice_num(read_data(\"test.json\"))"
   ]
  },
  {
   "cell_type": "code",
   "execution_count": 7,
   "metadata": {},
   "outputs": [],
   "source": [
    "def get_re(templates):\n",
    "    '''get the re formula for input and labels'''\n",
    "    re1, re2 = [], []\n",
    "\n",
    "    for temp in templates:\n",
    "\n",
    "        re1.append(temp.replace(\"[INPUT_TEXT]\", \"([\\s\\S]*)\").replace(\"[LIST_LABELS]\", \"[\\s\\S]*\").replace(\"\\\\n答：\", \"\"))   # match and ignore\n",
    "        re2.append(temp.replace(\"[LIST_LABELS]\", \"([\\s\\S]*)\").replace(\"[INPUT_TEXT]\", \"[\\s\\S]*\").replace(\"\\\\n答：\", \"\"))\n",
    "\n",
    "    return re1, re2"
   ]
  },
  {
   "cell_type": "code",
   "execution_count": 8,
   "metadata": {},
   "outputs": [],
   "source": [
    "train_data = read_data(\"train.json\")\n",
    "temp_re1, temp_re2 = get_re(templates)\n",
    "input_list, answer_list, choice_list = [], [], []\n",
    "anti_input = [] # check the sample that can't match the template\n",
    "\n",
    "for meta_data in train_data:\n",
    "    flag = True\n",
    "    for temp in temp_re1:\n",
    "        if re.match(temp, meta_data[\"input\"]):\n",
    "            input_list.append(re.match(temp, meta_data[\"input\"])[1])\n",
    "            answer_list.append(meta_data[\"target\"])\n",
    "            choice_list.append(meta_data[\"answer_choices\"])\n",
    "            flag = False\n",
    "            break\n",
    "    if flag:    \n",
    "        anti_input.append(meta_data[\"input\"])"
   ]
  },
  {
   "cell_type": "code",
   "execution_count": 9,
   "metadata": {},
   "outputs": [
    {
     "data": {
      "text/plain": [
       "(6000, 3622, 6000, 44, 0)"
      ]
     },
     "execution_count": 9,
     "metadata": {},
     "output_type": "execute_result"
    }
   ],
   "source": [
    "len(input_list), len(set(input_list)), len(answer_list), len(set(answer_list)), len(anti_input)"
   ]
  },
  {
   "cell_type": "code",
   "execution_count": 10,
   "metadata": {},
   "outputs": [],
   "source": [
    "def get_input(raw_input, raw_choices):\n",
    "\n",
    "    meta_temp = random.choice(templates)\n",
    "    new_input = copy.deepcopy(meta_temp)\n",
    "    choice_str = \"\"\n",
    "    for j, meta_choice in enumerate(raw_choices):\n",
    "        if j == (len(raw_choices) - 1):\n",
    "            choice_str = choice_str + meta_choice\n",
    "        else:\n",
    "            choice_str = choice_str + meta_choice + \"，\"\n",
    "    new_input = new_input.replace(\"[INPUT_TEXT]\", raw_input)\n",
    "    new_input = new_input.replace(\"[LIST_LABELS]\", choice_str)\n",
    "\n",
    "    return new_input"
   ]
  },
  {
   "cell_type": "code",
   "execution_count": 11,
   "metadata": {},
   "outputs": [
    {
     "name": "stderr",
     "output_type": "stream",
     "text": [
      "100%|██████████| 22962/22962 [00:04<00:00, 5572.75it/s] \n"
     ]
    }
   ],
   "source": [
    "raw_data = json.load(open(\"CHIP-CTC_train.json\", \"r\"))\n",
    "aug_input_list, aug_answer_list = [], []\n",
    "\n",
    "for meta_d in tqdm(raw_data):\n",
    "    \n",
    "    if meta_d[\"text\"] not in aug_input_list:\n",
    "\n",
    "        if meta_d[\"text\"][0] == \" \":\n",
    "            meta_d[\"text\"] = meta_d[\"text\"][1:]\n",
    "        aug_input_list.append(meta_d[\"text\"])\n",
    "        aug_answer_list.append(meta_d[\"label\"])"
   ]
  },
  {
   "cell_type": "code",
   "execution_count": 12,
   "metadata": {},
   "outputs": [
    {
     "data": {
      "text/plain": [
       "(3622, 22304, 22356)"
      ]
     },
     "execution_count": 12,
     "metadata": {},
     "output_type": "execute_result"
    }
   ],
   "source": [
    "len(set(input_list)), len(set(aug_input_list)), len(set(input_list+aug_input_list))"
   ]
  },
  {
   "cell_type": "code",
   "execution_count": 31,
   "metadata": {},
   "outputs": [],
   "source": [
    "label_dict = {}\n",
    "\n",
    "for i in range(len(input_list)):\n",
    "    if answer_list[i] not in label_dict.values():\n",
    "        try:\n",
    "            j = aug_input_list.index(input_list[i])\n",
    "        except:\n",
    "            continue\n",
    "        label_dict[aug_answer_list[j]] = answer_list[i]\n",
    "    \n",
    "    if len(label_dict) == 44:\n",
    "        break"
   ]
  },
  {
   "cell_type": "code",
   "execution_count": 36,
   "metadata": {},
   "outputs": [],
   "source": [
    "new_input_list, new_answer_list, new_choice_list = [], [], []\n",
    "for i in range(len(input_list)):\n",
    "    if input_list[i] not in new_input_list:\n",
    "        new_input_list.append(input_list[i])\n",
    "        new_answer_list.append(answer_list[i])\n",
    "        new_choice_list.append(choice_list[i])"
   ]
  },
  {
   "cell_type": "code",
   "execution_count": 37,
   "metadata": {},
   "outputs": [
    {
     "data": {
      "text/plain": [
       "3622"
      ]
     },
     "execution_count": 37,
     "metadata": {},
     "output_type": "execute_result"
    }
   ],
   "source": [
    "len(new_input_list)"
   ]
  },
  {
   "cell_type": "code",
   "execution_count": 38,
   "metadata": {},
   "outputs": [],
   "source": [
    "random_index = random.sample(list(range(22304)), k=6000-3622)"
   ]
  },
  {
   "cell_type": "code",
   "execution_count": 39,
   "metadata": {},
   "outputs": [],
   "source": [
    "for ri in random_index:\n",
    "    new_input_list.append(aug_input_list[ri])\n",
    "    new_answer_list.append(label_dict[aug_answer_list[ri]])\n",
    "    n_choice = random.choice(list(range(1, 43)))\n",
    "    meta_choice = random.sample(list(label_dict.values()), n_choice)\n",
    "    if label_dict[aug_answer_list[ri]] not in meta_choice:\n",
    "        meta_choice.append(label_dict[aug_answer_list[ri]])\n",
    "    new_choice_list.append(meta_choice)"
   ]
  },
  {
   "cell_type": "code",
   "execution_count": 40,
   "metadata": {},
   "outputs": [
    {
     "data": {
      "text/plain": [
       "6000"
      ]
     },
     "execution_count": 40,
     "metadata": {},
     "output_type": "execute_result"
    }
   ],
   "source": [
    "len(new_input_list)"
   ]
  },
  {
   "cell_type": "code",
   "execution_count": 41,
   "metadata": {},
   "outputs": [],
   "source": [
    "aug_data = []\n",
    "count=0\n",
    "\n",
    "for i in range(len(new_input_list)):\n",
    "\n",
    "    meta_input = get_input(new_input_list[i], new_choice_list[i])\n",
    "    meta_data = {\"input\": meta_input, \"target\": new_answer_list[i], \"answer_choices\": new_choice_list[i],\n",
    "                    \"task_type\": \"cls\", \"task_dataset\": \"CHIP-CTC\", \"sample_id\": \"train-\"+str(count)}\n",
    "    aug_data.append(meta_data)\n"
   ]
  },
  {
   "cell_type": "code",
   "execution_count": 42,
   "metadata": {},
   "outputs": [],
   "source": [
    "save_data(\"train_aug.json\", aug_data)"
   ]
  }
 ],
 "metadata": {
  "kernelspec": {
   "display_name": "llm",
   "language": "python",
   "name": "python3"
  },
  "language_info": {
   "codemirror_mode": {
    "name": "ipython",
    "version": 3
   },
   "file_extension": ".py",
   "mimetype": "text/x-python",
   "name": "python",
   "nbconvert_exporter": "python",
   "pygments_lexer": "ipython3",
   "version": "3.9.5"
  },
  "orig_nbformat": 4
 },
 "nbformat": 4,
 "nbformat_minor": 2
}
