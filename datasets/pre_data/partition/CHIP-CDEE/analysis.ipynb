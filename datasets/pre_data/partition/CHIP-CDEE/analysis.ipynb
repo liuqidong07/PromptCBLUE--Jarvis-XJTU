{
 "cells": [
  {
   "cell_type": "code",
   "execution_count": 1,
   "metadata": {},
   "outputs": [],
   "source": [
    "import os\n",
    "import random\n",
    "import copy\n",
    "import re\n",
    "import json\n",
    "import jsonlines\n",
    "import numpy as np\n",
    "import pandas as pd\n",
    "from tqdm import tqdm\n",
    "import numpy as np\n",
    "from collections import Counter"
   ]
  },
  {
   "cell_type": "code",
   "execution_count": 2,
   "metadata": {},
   "outputs": [],
   "source": [
    "key_columns = [\"input\", \"target\", \"answer_choices\", \"task_type\", \"task_dataset\", \"sample_id\"]\n",
    "templates = [\n",
    "    \"临床发现事件抽取：\\\\n[INPUT_TEXT]\\\\n说明：临床发现事件的主体词包含发生状态，描述词和解剖部位这三种属性，其中描述词和解剖部位可能有多个值\\\\n答：\",\n",
    "    \"找出指定的临床发现事件属性：\\\\n[INPUT_TEXT]\\\\n事件抽取说明：临床发现事件由主体词，发生状态，描述词和解剖部位组成\\\\n答：\",\n",
    "    \"找出句子中的临床发现事件及其属性：\\\\n [INPUT_TEXT]\\\\n说明：临床发现事件的主体词包含发生状态，描述词和解剖部位这三种属性，其中描述词和解剖部位可能有多个值\\\\n答：\",\n",
    "    \"[INPUT_TEXT]\\\\n问题：句子中的临床发现事件及其属性是什么？\\\\n说明：临床发现事件由主体词，发生状态，描述词和解剖部位组成\\\\n答：\",\n",
    "    \"生成句子中的临床发现事件属性是：\\\\n[INPUT_TEXT]\\\\n说明：临床发现事件的主体词包含发生状态，描述词和解剖部位这三种属性，其中描述词和解剖部位可能有多个值\\\\n答：\",\n",
    "    \"[INPUT_TEXT]\\\\n这个句子里面临床发现事件是？\\\\n说明：临床发现事件由主体词，发生状态，描述词和解剖部位组成\\\\n答：\",\n",
    "    \"临床发现事件抽取：[INPUT_TEXT]\\\\n说明：临床发现事件的主体词包含发生状态，描述词和解剖部位这三种属性，其中描述词和解剖部位可能有多个值\\\\n答：\"\n",
    "  ]"
   ]
  },
  {
   "cell_type": "code",
   "execution_count": 3,
   "metadata": {},
   "outputs": [],
   "source": [
    "def read_data(data_path):\n",
    "    '''read data from jsonlines file'''\n",
    "    data = []\n",
    "\n",
    "    with jsonlines.open(data_path, \"r\") as f:\n",
    "        for meta_data in f:\n",
    "            data.append(meta_data)\n",
    "\n",
    "    return data"
   ]
  },
  {
   "cell_type": "code",
   "execution_count": 4,
   "metadata": {},
   "outputs": [],
   "source": [
    "def save_data(data_path, data):\n",
    "    '''write all_data list to a new jsonl'''\n",
    "    with jsonlines.open(data_path, \"w\") as w:\n",
    "        for meta_data in data:\n",
    "            w.write(meta_data)"
   ]
  },
  {
   "cell_type": "code",
   "execution_count": 5,
   "metadata": {},
   "outputs": [],
   "source": [
    "def get_re(templates):\n",
    "    '''get the re formula for input and labels'''\n",
    "    re_temp = []\n",
    "\n",
    "    for temp in templates:\n",
    "\n",
    "        re_temp.append(temp.replace(\"[INPUT_TEXT]\", \"([\\s\\S]*)\").replace(\"\\\\n答：\", \"\"))\n",
    "\n",
    "    return re_temp"
   ]
  },
  {
   "cell_type": "code",
   "execution_count": 6,
   "metadata": {},
   "outputs": [],
   "source": [
    "train_data = read_data(\"train.json\")\n",
    "temp_re = get_re(templates)\n",
    "input_list, answer_list = [], []\n",
    "anti_input = [] # check the sample that can't match the template\n",
    "\n",
    "for meta_data in train_data:\n",
    "    flag = True\n",
    "    for temp in temp_re:\n",
    "        if re.match(temp, meta_data[\"input\"]):\n",
    "            input_list.append(re.match(temp, meta_data[\"input\"])[1])\n",
    "            answer_list.append(meta_data[\"target\"])\n",
    "            flag = False\n",
    "            break\n",
    "    if flag:    \n",
    "        anti_input.append(meta_data[\"input\"])"
   ]
  },
  {
   "cell_type": "code",
   "execution_count": 7,
   "metadata": {},
   "outputs": [
    {
     "data": {
      "text/plain": [
       "(3000, 1361, 3000, 1339)"
      ]
     },
     "execution_count": 7,
     "metadata": {},
     "output_type": "execute_result"
    }
   ],
   "source": [
    "len(input_list), len(set(input_list)), len(answer_list), len(set(answer_list))"
   ]
  },
  {
   "cell_type": "code",
   "execution_count": 8,
   "metadata": {},
   "outputs": [
    {
     "name": "stdout",
     "output_type": "stream",
     "text": [
      "New data size: 1361\n"
     ]
    }
   ],
   "source": [
    "new_input_list, new_answer_list = [], []\n",
    "\n",
    "for i in range(len(input_list)):\n",
    "    if input_list[i] not in new_input_list:\n",
    "        new_input_list.append(input_list[i])\n",
    "        new_answer_list.append(answer_list[i])\n",
    "\n",
    "print(\"New data size: %d\" % len(new_input_list))"
   ]
  },
  {
   "cell_type": "code",
   "execution_count": 9,
   "metadata": {},
   "outputs": [],
   "source": [
    "def get_input(raw_input, n_re=2):\n",
    "    temp_list = random.sample(templates, k=n_re)\n",
    "    res = []\n",
    "    for meta_temp in temp_list:\n",
    "        new_input = copy.deepcopy(meta_temp)\n",
    "        res.append(new_input.replace(\"[INPUT_TEXT]\", raw_input))\n",
    "    return res"
   ]
  },
  {
   "cell_type": "code",
   "execution_count": 10,
   "metadata": {},
   "outputs": [],
   "source": [
    "new_data = []\n",
    "num_per = 2\n",
    "count = 0\n",
    "for i in range(len(new_input_list)):\n",
    "    meta_input_list = get_input(new_input_list[i])\n",
    "    for meta_input in meta_input_list:\n",
    "        meta_data = {\"input\": meta_input, \"target\": new_answer_list[i], \"answer_choices\": \"null\",\n",
    "                     \"task_type\": \"event_extraction\", \"task_dataset\": \"CHIP-CDEE\", \"sample_id\": \"train-\"+str(count)}\n",
    "        new_data.append(meta_data)\n",
    "        count+=1"
   ]
  },
  {
   "cell_type": "code",
   "execution_count": 11,
   "metadata": {},
   "outputs": [
    {
     "data": {
      "text/plain": [
       "2722"
      ]
     },
     "execution_count": 11,
     "metadata": {},
     "output_type": "execute_result"
    }
   ],
   "source": [
    "len(new_data)"
   ]
  },
  {
   "cell_type": "code",
   "execution_count": 12,
   "metadata": {},
   "outputs": [],
   "source": [
    "save_data(\"train_norep.json\", new_data)"
   ]
  },
  {
   "cell_type": "code",
   "execution_count": 13,
   "metadata": {},
   "outputs": [],
   "source": [
    "raw_data = json.load(open(\"CHIP-CDEE_train.json\"))\n",
    "answer_temp = \"\\n主体词：[CORE]；发生状态：[TEND]；描述词：[CHARA]；解剖部位：[ANAT]\"\n",
    "aug_input_list, aug_answer_list = [], []\n",
    "\n",
    "for meta_d in raw_data:\n",
    "    meta_aug_input = meta_d[\"text\"]\n",
    "    meta_aug_target = \"上述句子中的临床发现事件如下：\"\n",
    "    \n",
    "    for meta_event in meta_d[\"event\"]:\n",
    "        meta_event_str = copy.deepcopy(answer_temp)\n",
    "        meta_event_str = meta_event_str.replace(\"[CORE]\", meta_event[\"core_name\"])\n",
    "        meta_event_str = meta_event_str.replace(\"[TEND]\", meta_event[\"tendency\"])\n",
    "        chara_str = \"\"\n",
    "        if len(meta_event[\"character\"]) > 0:\n",
    "            for j, meta_chara in enumerate(meta_event[\"character\"]):\n",
    "                if j == (len(meta_event[\"character\"]) - 1):\n",
    "                    chara_str = chara_str + meta_chara\n",
    "                else:\n",
    "                    chara_str = chara_str + meta_chara + \"，\"\n",
    "        meta_event_str = meta_event_str.replace(\"[CHARA]\", chara_str)\n",
    "        anat_str = \"\"\n",
    "        if len(meta_event[\"anatomy_list\"]) > 0:\n",
    "            for j, meta_anat in enumerate(meta_event[\"anatomy_list\"]):\n",
    "                if j == (len(meta_event[\"anatomy_list\"]) - 1):\n",
    "                    anat_str = anat_str + meta_anat\n",
    "                else:\n",
    "                    anat_str = anat_str + meta_anat + \"，\"\n",
    "        meta_event_str = meta_event_str.replace(\"[ANAT]\", anat_str)\n",
    "        \n",
    "        meta_aug_target += meta_event_str\n",
    "    \n",
    "    aug_input_list.append(meta_aug_input)\n",
    "    aug_answer_list.append(meta_aug_target)\n",
    "    "
   ]
  },
  {
   "cell_type": "code",
   "execution_count": 14,
   "metadata": {},
   "outputs": [
    {
     "data": {
      "text/plain": [
       "(1361, 1587, 1587)"
      ]
     },
     "execution_count": 14,
     "metadata": {},
     "output_type": "execute_result"
    }
   ],
   "source": [
    "len(set(input_list)), len(set(aug_input_list)), len(set(input_list+aug_input_list))"
   ]
  },
  {
   "cell_type": "code",
   "execution_count": 15,
   "metadata": {},
   "outputs": [
    {
     "name": "stdout",
     "output_type": "stream",
     "text": [
      "New data size: 1587\n"
     ]
    }
   ],
   "source": [
    "input_list = new_input_list + aug_input_list\n",
    "answer_list = new_answer_list + aug_answer_list\n",
    "new_input_list, new_answer_list = [], []\n",
    "\n",
    "for i in range(len(input_list)):\n",
    "    if input_list[i] not in new_input_list:\n",
    "        new_input_list.append(input_list[i])\n",
    "        new_answer_list.append(answer_list[i])\n",
    "\n",
    "print(\"New data size: %d\" % len(new_input_list))"
   ]
  },
  {
   "cell_type": "code",
   "execution_count": 16,
   "metadata": {},
   "outputs": [],
   "source": [
    "new_data = []\n",
    "num_per = 2\n",
    "count = 0\n",
    "for i in range(len(new_input_list)):\n",
    "    meta_input_list = get_input(new_input_list[i])\n",
    "    for meta_input in meta_input_list:\n",
    "        meta_data = {\"input\": meta_input, \"target\": new_answer_list[i], \"answer_choices\": \"null\",\n",
    "                     \"task_type\": \"event_extraction\", \"task_dataset\": \"CHIP-CDEE\", \"sample_id\": \"train-\"+str(count)}\n",
    "        new_data.append(meta_data)\n",
    "        count+=1"
   ]
  },
  {
   "cell_type": "code",
   "execution_count": 17,
   "metadata": {},
   "outputs": [],
   "source": [
    "save_data(\"train_aug.json\", new_data)"
   ]
  }
 ],
 "metadata": {
  "kernelspec": {
   "display_name": "llm",
   "language": "python",
   "name": "python3"
  },
  "language_info": {
   "codemirror_mode": {
    "name": "ipython",
    "version": 3
   },
   "file_extension": ".py",
   "mimetype": "text/x-python",
   "name": "python",
   "nbconvert_exporter": "python",
   "pygments_lexer": "ipython3",
   "version": "3.9.5"
  },
  "orig_nbformat": 4
 },
 "nbformat": 4,
 "nbformat_minor": 2
}
