{
 "cells": [
  {
   "cell_type": "code",
   "execution_count": 1,
   "metadata": {},
   "outputs": [],
   "source": [
    "import os\n",
    "import random\n",
    "import copy\n",
    "import re\n",
    "import json\n",
    "import jsonlines\n",
    "import numpy as np\n",
    "import pandas as pd\n",
    "from tqdm import tqdm\n",
    "import numpy as np\n",
    "from collections import Counter"
   ]
  },
  {
   "cell_type": "code",
   "execution_count": 2,
   "metadata": {},
   "outputs": [],
   "source": [
    "key_columns = [\"input\", \"target\", \"answer_choices\", \"task_type\", \"task_dataset\", \"sample_id\"]\n",
    "templates = [\n",
    "    \"找出指定的三元组：\\\\n[INPUT_TEXT]\\\\n实体间关系：[LIST_LABELS]\\\\n答：\",\n",
    "    \"根据给定的实体间的关系，抽取具有这些关系的实体对：\\\\n[INPUT_TEXT]\\\\n实体间关系标签：[LIST_LABELS]\\\\n答：\",\n",
    "    \"找出句子中的具有[LIST_LABELS]关系类型的头尾实体对：\\\\n[INPUT_TEXT]\\\\n答：\",\n",
    "    \"[INPUT_TEXT]\\\\n问题：句子中的[LIST_LABELS]等关系类型三元组是什么？\\\\n答：\",\n",
    "    \"给出句子中的[LIST_LABELS]等关系类型的实体对：[INPUT_TEXT]\\\\n答：\",\n",
    "    \"[INPUT_TEXT]\\\\n这个句子里面具有一定医学关系的实体组有哪些？\\\\n三元组关系选项：[LIST_LABELS]\\\\n答：\",\n",
    "    \"同时完成实体识别与关系识别：\\\\n[INPUT_TEXT]\\\\n三元组关系类型：[LIST_LABELS]\\\\n答：\"\n",
    "  ]"
   ]
  },
  {
   "cell_type": "code",
   "execution_count": 3,
   "metadata": {},
   "outputs": [],
   "source": [
    "def read_data(data_path):\n",
    "    '''read data from jsonlines file'''\n",
    "    data = []\n",
    "\n",
    "    with jsonlines.open(data_path, \"r\") as f:\n",
    "        for meta_data in f:\n",
    "            data.append(meta_data)\n",
    "\n",
    "    return data"
   ]
  },
  {
   "cell_type": "code",
   "execution_count": 4,
   "metadata": {},
   "outputs": [],
   "source": [
    "def save_data(data_path, data):\n",
    "    '''write all_data list to a new jsonl'''\n",
    "    with jsonlines.open(data_path, \"w\") as w:\n",
    "        for meta_data in data:\n",
    "            w.write(meta_data)"
   ]
  },
  {
   "cell_type": "code",
   "execution_count": 5,
   "metadata": {},
   "outputs": [],
   "source": [
    "def get_re(templates):\n",
    "    '''get the re formula for input and labels'''\n",
    "    re1, re2 = [], []\n",
    "\n",
    "    for temp in templates:\n",
    "\n",
    "        re1.append(temp.replace(\"[INPUT_TEXT]\", \"([\\s\\S]*)\").replace(\"[LIST_LABELS]\", \"[\\s\\S]*\").replace(\"\\\\n答：\", \"\"))   # match and ignore\n",
    "        re2.append(temp.replace(\"[LIST_LABELS]\", \"([\\s\\S]*)\").replace(\"[INPUT_TEXT]\", \"[\\s\\S]*\").replace(\"\\\\n答：\", \"\"))\n",
    "\n",
    "    return re1, re2"
   ]
  },
  {
   "cell_type": "code",
   "execution_count": 6,
   "metadata": {},
   "outputs": [],
   "source": [
    "train_data = read_data(\"train.json\")\n",
    "temp_re1, temp_re2 = get_re(templates)\n",
    "input_list, answer_list = [], []\n",
    "anti_input = [] # check the sample that can't match the template\n",
    "\n",
    "for meta_data in train_data:\n",
    "    flag = True\n",
    "    for temp in temp_re1:\n",
    "        if re.match(temp, meta_data[\"input\"]):\n",
    "            input_list.append(re.match(temp, meta_data[\"input\"])[1])\n",
    "            answer_list.append(meta_data[\"target\"])\n",
    "            flag = False\n",
    "            break\n",
    "    if flag:    \n",
    "        anti_input.append(meta_data[\"input\"])"
   ]
  },
  {
   "cell_type": "code",
   "execution_count": 8,
   "metadata": {},
   "outputs": [
    {
     "data": {
      "text/plain": [
       "(3000, 2828, 3000, 2273, 0)"
      ]
     },
     "execution_count": 8,
     "metadata": {},
     "output_type": "execute_result"
    }
   ],
   "source": [
    "len(input_list), len(set(input_list)), len(answer_list), len(set(answer_list)), len(anti_input)"
   ]
  },
  {
   "cell_type": "code",
   "execution_count": 15,
   "metadata": {},
   "outputs": [],
   "source": [
    "def get_input(raw_input, raw_choices):\n",
    "\n",
    "    meta_temp = random.choice(templates)\n",
    "    new_input = copy.deepcopy(meta_temp)\n",
    "    choice_str = \"\"\n",
    "    for j, meta_choice in enumerate(raw_choices):\n",
    "        if j == (len(raw_choices) - 1):\n",
    "            choice_str = choice_str + meta_choice\n",
    "        else:\n",
    "            choice_str = choice_str + meta_choice + \"，\"\n",
    "    new_input = new_input.replace(\"[INPUT_TEXT]\", raw_input)\n",
    "    new_input = new_input.replace(\"[LIST_LABELS]\", choice_str)\n",
    "\n",
    "    return new_input"
   ]
  },
  {
   "cell_type": "code",
   "execution_count": 19,
   "metadata": {},
   "outputs": [],
   "source": [
    "raw_data = read_data(\"CMeIE_train.json\")\n",
    "answer_temp = \"具有[PRED]关系的头尾实体对如下：头实体为[SUB]，尾实体为[OBJ]。\\n\"\n",
    "aug_input_list, aug_answer_list, aug_choices_list = [], [], []\n",
    "\n",
    "for meta_d in raw_data:\n",
    "    meta_aug_input = meta_d[\"text\"]\n",
    "    meta_aug_target = \"\"\n",
    "    meta_aug_choice = []\n",
    "    \n",
    "    for meta_event in meta_d[\"spo_list\"]:\n",
    "        meta_event_str = copy.deepcopy(answer_temp)\n",
    "        meta_event_str = meta_event_str.replace(\"[PRED]\", meta_event[\"predicate\"])\n",
    "        meta_event_str = meta_event_str.replace(\"[SUB]\", meta_event[\"subject\"])\n",
    "        meta_event_str = meta_event_str.replace(\"[OBJ]\", meta_event[\"object\"][\"@value\"])\n",
    "        if meta_event[\"predicate\"] not in meta_aug_choice:\n",
    "            meta_aug_choice.append(meta_event[\"predicate\"])\n",
    "        \n",
    "        meta_aug_target += meta_event_str\n",
    "\n",
    "    meta_aug_target = meta_aug_target[:-2]\n",
    "    aug_input_list.append(meta_aug_input)\n",
    "    aug_answer_list.append(meta_aug_target)\n",
    "    aug_choices_list.append(meta_aug_choice)"
   ]
  },
  {
   "cell_type": "code",
   "execution_count": 20,
   "metadata": {},
   "outputs": [
    {
     "data": {
      "text/plain": [
       "(2828, 14339, 14850)"
      ]
     },
     "execution_count": 20,
     "metadata": {},
     "output_type": "execute_result"
    }
   ],
   "source": [
    "len(set(input_list)), len(set(aug_input_list)), len(set(input_list+aug_input_list))"
   ]
  },
  {
   "cell_type": "code",
   "execution_count": 28,
   "metadata": {},
   "outputs": [],
   "source": [
    "all_choices = []\n",
    "for meta_data in train_data:\n",
    "    all_choices += meta_data[\"answer_choices\"]"
   ]
  },
  {
   "cell_type": "code",
   "execution_count": 30,
   "metadata": {},
   "outputs": [
    {
     "data": {
      "text/plain": [
       "7519"
      ]
     },
     "execution_count": 30,
     "metadata": {},
     "output_type": "execute_result"
    }
   ],
   "source": [
    "len(all_choices)"
   ]
  },
  {
   "cell_type": "code",
   "execution_count": 32,
   "metadata": {},
   "outputs": [],
   "source": [
    "aug_data = []\n",
    "count = 0\n",
    "\n",
    "for i in range(len(aug_input_list)):\n",
    "\n",
    "    if aug_input_list[i] not in input_list:\n",
    "        no_choice = random.random()\n",
    "        if no_choice >= 0.25:\n",
    "            meta_input = get_input(aug_input_list[i], aug_choices_list[i])\n",
    "            meta_data = {\"input\": meta_input, \"target\": aug_answer_list[i], \"answer_choices\": aug_choices_list[i],\n",
    "                            \"task_type\": \"spo_generation\", \"task_dataset\": \"CMeIE\", \"sample_id\": \"train-\"+str(count)}\n",
    "        else:\n",
    "            random_choice = [random.choice(list(set(all_choices)-set(aug_choices_list[i])))]\n",
    "            meta_input = get_input(aug_input_list[i], random_choice)\n",
    "            meta_data = {\"input\": meta_input, \"target\": \"没有指定类型的三元组\", \"answer_choices\": random_choice,\n",
    "                            \"task_type\": \"spo_generation\", \"task_dataset\": \"CMeIE\", \"sample_id\": \"train-\"+str(count)}\n",
    "        aug_data.append(meta_data)\n",
    "        count+=1\n",
    "\n",
    "    if count >= 3000:\n",
    "        break"
   ]
  },
  {
   "cell_type": "code",
   "execution_count": 33,
   "metadata": {},
   "outputs": [],
   "source": [
    "save_data(\"train_aug.json\", train_data+aug_data)"
   ]
  },
  {
   "cell_type": "code",
   "execution_count": null,
   "metadata": {},
   "outputs": [],
   "source": []
  },
  {
   "cell_type": "code",
   "execution_count": null,
   "metadata": {},
   "outputs": [],
   "source": []
  }
 ],
 "metadata": {
  "kernelspec": {
   "display_name": "llm",
   "language": "python",
   "name": "python3"
  },
  "language_info": {
   "codemirror_mode": {
    "name": "ipython",
    "version": 3
   },
   "file_extension": ".py",
   "mimetype": "text/x-python",
   "name": "python",
   "nbconvert_exporter": "python",
   "pygments_lexer": "ipython3",
   "version": "3.9.5"
  },
  "orig_nbformat": 4
 },
 "nbformat": 4,
 "nbformat_minor": 2
}
