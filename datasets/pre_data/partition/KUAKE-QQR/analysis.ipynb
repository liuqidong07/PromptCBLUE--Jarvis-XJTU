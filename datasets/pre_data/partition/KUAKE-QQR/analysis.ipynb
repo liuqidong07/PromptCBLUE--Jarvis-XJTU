{
 "cells": [
  {
   "cell_type": "code",
   "execution_count": 1,
   "metadata": {},
   "outputs": [],
   "source": [
    "import os\n",
    "import random\n",
    "import copy\n",
    "import re\n",
    "import json\n",
    "import jsonlines\n",
    "import numpy as np\n",
    "import pandas as pd\n",
    "from tqdm import tqdm\n",
    "import numpy as np\n",
    "from collections import Counter"
   ]
  },
  {
   "cell_type": "code",
   "execution_count": 2,
   "metadata": {},
   "outputs": [],
   "source": [
    "key_columns = [\"input\", \"target\", \"answer_choices\", \"task_type\", \"task_dataset\", \"sample_id\"]\n",
    "templates = [\n",
    "    \"判断两个查询所表述的主题的匹配程度：\\\\n“[INPUT_TEXT_1]”，“[INPUT_TEXT_2]”。\\\\n选项：[LIST_LABELS]\\\\n答：\",\n",
    "    \"我想知道下面两个搜索词的意思有多相同。\\\\n“[INPUT_TEXT_1]”，“[INPUT_TEXT_2]”。\\\\n选项：[LIST_LABELS]\\\\n答：\",\n",
    "    \"下面两个句子的语义关系是？\\\\n“[INPUT_TEXT_1]”，“[INPUT_TEXT_2]”。\\\\n选项: [LIST_LABELS]\\\\n答：\",\n",
    "    \"“[INPUT_TEXT_1]”和“[INPUT_TEXT_2]”表述的主题完全一致吗？\\\\n选项：[LIST_LABELS]\\\\n答：\",\n",
    "    \"“[INPUT_TEXT_1]”和“[INPUT_TEXT_2]”的意思有多相似？\\\\n选项：[LIST_LABELS]\\\\n答：\",\n",
    "    \"“[INPUT_TEXT_1]”，“[INPUT_TEXT_2]”。\\\\n这两句是一样的意思吗？\\\\n选项：[LIST_LABELS]\\\\n答：\",\n",
    "    \"“[INPUT_TEXT_1]”，“[INPUT_TEXT_2]”。\\\\n这两句的语义关系是？\\\\n选项：[LIST_LABELS]\\\\n答：\"  \n",
    "  ]"
   ]
  },
  {
   "cell_type": "code",
   "execution_count": 3,
   "metadata": {},
   "outputs": [],
   "source": [
    "def read_data(data_path):\n",
    "\n",
    "    data = []\n",
    "\n",
    "    with jsonlines.open(data_path, \"r\") as f:\n",
    "        for meta_data in f:\n",
    "            data.append(meta_data)\n",
    "\n",
    "    return data"
   ]
  },
  {
   "cell_type": "code",
   "execution_count": 4,
   "metadata": {},
   "outputs": [],
   "source": [
    "def save_data(data_path, data):\n",
    "    # write all_data list to a new jsonl\n",
    "    with jsonlines.open(data_path, \"w\") as w:\n",
    "        for meta_data in data:\n",
    "            w.write(meta_data)"
   ]
  },
  {
   "cell_type": "code",
   "execution_count": 9,
   "metadata": {},
   "outputs": [],
   "source": [
    "def get_re(templates):\n",
    "    '''get the re formula for input and labels'''\n",
    "    re1, re2, re3 = [], [], []\n",
    "\n",
    "    for temp in templates:\n",
    "\n",
    "        re1.append(temp.replace(\"[INPUT_TEXT_1]\", \"([\\s\\S]*)\").replace(\"[INPUT_TEXT_2]\", \"[\\s\\S]*\").replace(\"[LIST_LABELS]\", \"[\\s\\S]*\").replace(\"\\\\n答：\", \"\"))\n",
    "        re2.append(temp.replace(\"[INPUT_TEXT_2]\", \"([\\s\\S]*)\").replace(\"[INPUT_TEXT_1]\", \"[\\s\\S]*\").replace(\"[LIST_LABELS]\", \"[\\s\\S]*\").replace(\"\\\\n答：\", \"\"))\n",
    "        re3.append(temp.replace(\"[LIST_LABELS]\", \"([\\s\\S]*)\").replace(\"[INPUT_TEXT_1]\", \"[\\s\\S]*\").replace(\"[INPUT_TEXT_2]\", \"[\\s\\S]*\").replace(\"\\\\n答：\", \"\"))\n",
    "\n",
    "    return re1, re2, re3"
   ]
  },
  {
   "cell_type": "code",
   "execution_count": 10,
   "metadata": {},
   "outputs": [],
   "source": [
    "train_data = read_data(\"train.json\")\n",
    "temp_re1, temp_re2, temp_re3 = get_re(templates)\n",
    "input_list1, answer_list, input_list2 = [], [], []\n",
    "anti_input = [] # check the sample that can't match the template\n",
    "\n",
    "for meta_data in train_data:\n",
    "    flag = True\n",
    "    for i, temp in enumerate(temp_re1):\n",
    "        if re.match(temp, meta_data[\"input\"]):\n",
    "            input_list1.append(re.match(temp, meta_data[\"input\"])[1])\n",
    "            answer_list.append(meta_data[\"target\"])\n",
    "            input_list2.append(re.match(temp_re2[i], meta_data[\"input\"])[1])\n",
    "            flag = False\n",
    "            break\n",
    "    if flag:    \n",
    "        anti_input.append(meta_data[\"input\"])"
   ]
  },
  {
   "cell_type": "code",
   "execution_count": 12,
   "metadata": {},
   "outputs": [
    {
     "data": {
      "text/plain": [
       "(3000, 772, 3000, 4, 0)"
      ]
     },
     "execution_count": 12,
     "metadata": {},
     "output_type": "execute_result"
    }
   ],
   "source": [
    "len(input_list1), len(set(input_list1)), len(answer_list), len(set(answer_list)), len(anti_input)"
   ]
  },
  {
   "cell_type": "code",
   "execution_count": 13,
   "metadata": {},
   "outputs": [],
   "source": [
    "def get_input(raw_input1, raw_input2, raw_choices):\n",
    "\n",
    "    meta_temp = random.choice(templates)\n",
    "    new_input = copy.deepcopy(meta_temp)\n",
    "    choice_str = \"\"\n",
    "    for j, meta_choice in enumerate(raw_choices):\n",
    "        if j == (len(raw_choices) - 1):\n",
    "            choice_str = choice_str + meta_choice\n",
    "        else:\n",
    "            choice_str = choice_str + meta_choice + \"，\"\n",
    "    new_input = new_input.replace(\"[INPUT_TEXT_1]\", raw_input1)\n",
    "    new_input = new_input.replace(\"[INPUT_TEXT_2]\", raw_input2)\n",
    "    new_input = new_input.replace(\"[LIST_LABELS]\", choice_str)\n",
    "\n",
    "    return new_input"
   ]
  },
  {
   "cell_type": "code",
   "execution_count": 14,
   "metadata": {},
   "outputs": [
    {
     "name": "stderr",
     "output_type": "stream",
     "text": [
      "100%|██████████| 15000/15000 [00:00<00:00, 1478290.37it/s]\n"
     ]
    }
   ],
   "source": [
    "raw_data = json.load(open(\"KUAKE-QQR_train.json\", \"r\"))\n",
    "aug_input_list1, aug_input_list2, aug_answer_list = [], [], []\n",
    "\n",
    "for meta_d in tqdm(raw_data):\n",
    "        \n",
    "    aug_input_list1.append(meta_d[\"query1\"])\n",
    "    aug_input_list2.append(meta_d[\"query2\"])\n",
    "    aug_answer_list.append(meta_d[\"label\"])"
   ]
  },
  {
   "cell_type": "code",
   "execution_count": 15,
   "metadata": {},
   "outputs": [
    {
     "data": {
      "text/plain": [
       "(772, 797, 797)"
      ]
     },
     "execution_count": 15,
     "metadata": {},
     "output_type": "execute_result"
    }
   ],
   "source": [
    "len(set(input_list1)), len(set(aug_input_list1)), len(set(input_list1+aug_input_list1))"
   ]
  },
  {
   "cell_type": "code",
   "execution_count": 36,
   "metadata": {},
   "outputs": [],
   "source": [
    "new_input_list, new_answer_list, new_choice_list = [], [], []\n",
    "for i in range(len(input_list)):\n",
    "    if input_list[i] not in new_input_list:\n",
    "        new_input_list.append(input_list[i])\n",
    "        new_answer_list.append(answer_list[i])\n",
    "        new_choice_list.append(choice_list[i])"
   ]
  },
  {
   "cell_type": "code",
   "execution_count": 37,
   "metadata": {},
   "outputs": [
    {
     "data": {
      "text/plain": [
       "3622"
      ]
     },
     "execution_count": 37,
     "metadata": {},
     "output_type": "execute_result"
    }
   ],
   "source": [
    "len(new_input_list)"
   ]
  },
  {
   "cell_type": "code",
   "execution_count": 38,
   "metadata": {},
   "outputs": [],
   "source": [
    "random_index = random.sample(list(range(22304)), k=6000-3622)"
   ]
  },
  {
   "cell_type": "code",
   "execution_count": 39,
   "metadata": {},
   "outputs": [],
   "source": [
    "for ri in random_index:\n",
    "    new_input_list.append(aug_input_list[ri])\n",
    "    new_answer_list.append(label_dict[aug_answer_list[ri]])\n",
    "    n_choice = random.choice(list(range(1, 43)))\n",
    "    meta_choice = random.sample(list(label_dict.values()), n_choice)\n",
    "    if label_dict[aug_answer_list[ri]] not in meta_choice:\n",
    "        meta_choice.append(label_dict[aug_answer_list[ri]])\n",
    "    new_choice_list.append(meta_choice)"
   ]
  },
  {
   "cell_type": "code",
   "execution_count": 40,
   "metadata": {},
   "outputs": [
    {
     "data": {
      "text/plain": [
       "6000"
      ]
     },
     "execution_count": 40,
     "metadata": {},
     "output_type": "execute_result"
    }
   ],
   "source": [
    "len(new_input_list)"
   ]
  },
  {
   "cell_type": "code",
   "execution_count": 41,
   "metadata": {},
   "outputs": [],
   "source": [
    "aug_data = []\n",
    "count=0\n",
    "\n",
    "for i in range(len(new_input_list)):\n",
    "\n",
    "    meta_input = get_input(new_input_list[i], new_choice_list[i])\n",
    "    meta_data = {\"input\": meta_input, \"target\": new_answer_list[i], \"answer_choices\": new_choice_list[i],\n",
    "                    \"task_type\": \"cls\", \"task_dataset\": \"CHIP-CTC\", \"sample_id\": \"train-\"+str(count)}\n",
    "    aug_data.append(meta_data)\n"
   ]
  },
  {
   "cell_type": "code",
   "execution_count": 42,
   "metadata": {},
   "outputs": [],
   "source": [
    "save_data(\"train_aug.json\", aug_data)"
   ]
  }
 ],
 "metadata": {
  "kernelspec": {
   "display_name": "llm",
   "language": "python",
   "name": "python3"
  },
  "language_info": {
   "codemirror_mode": {
    "name": "ipython",
    "version": 3
   },
   "file_extension": ".py",
   "mimetype": "text/x-python",
   "name": "python",
   "nbconvert_exporter": "python",
   "pygments_lexer": "ipython3",
   "version": "3.9.5"
  },
  "orig_nbformat": 4
 },
 "nbformat": 4,
 "nbformat_minor": 2
}
